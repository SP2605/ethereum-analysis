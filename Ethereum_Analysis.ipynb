{
 "cells": [
  {
   "cell_type": "code",
   "execution_count": 1,
   "id": "23ccb0dd",
   "metadata": {},
   "outputs": [],
   "source": [
    "import math\n",
    "import numpy as np\n",
    "import pandas as pd\n",
    "from sklearn.preprocessing import MinMaxScaler\n",
    "from keras.models import Sequential\n",
    "from keras.layers import Dense, LSTM\n",
    "import matplotlib.pyplot as plt\n",
    "plt.style.use('fivethirtyeight')"
   ]
  },
  {
   "cell_type": "code",
   "execution_count": 2,
   "id": "f80d38a9",
   "metadata": {},
   "outputs": [],
   "source": [
    "df = pd.read_excel(r\"C:\\Users\\sinfo\\Desktop\\ehd.xlsx\")"
   ]
  },
  {
   "cell_type": "code",
   "execution_count": 3,
   "id": "b5c7c6d4",
   "metadata": {},
   "outputs": [],
   "source": [
    "df.to_csv (\"ethereum.csv\", index = None,  header=True) \n"
   ]
  },
  {
   "cell_type": "code",
   "execution_count": 4,
   "id": "0166595b",
   "metadata": {},
   "outputs": [
    {
     "data": {
      "text/html": [
       "<div>\n",
       "<style scoped>\n",
       "    .dataframe tbody tr th:only-of-type {\n",
       "        vertical-align: middle;\n",
       "    }\n",
       "\n",
       "    .dataframe tbody tr th {\n",
       "        vertical-align: top;\n",
       "    }\n",
       "\n",
       "    .dataframe thead th {\n",
       "        text-align: right;\n",
       "    }\n",
       "</style>\n",
       "<table border=\"1\" class=\"dataframe\">\n",
       "  <thead>\n",
       "    <tr style=\"text-align: right;\">\n",
       "      <th></th>\n",
       "      <th>Date</th>\n",
       "      <th>Open</th>\n",
       "      <th>High</th>\n",
       "      <th>Low</th>\n",
       "      <th>Close</th>\n",
       "      <th>Volume</th>\n",
       "    </tr>\n",
       "  </thead>\n",
       "  <tbody>\n",
       "    <tr>\n",
       "      <th>0</th>\n",
       "      <td>2016-03-10</td>\n",
       "      <td>11.20</td>\n",
       "      <td>11.85</td>\n",
       "      <td>11.07</td>\n",
       "      <td>11.75</td>\n",
       "      <td>4</td>\n",
       "    </tr>\n",
       "    <tr>\n",
       "      <th>1</th>\n",
       "      <td>2016-03-11</td>\n",
       "      <td>11.75</td>\n",
       "      <td>11.95</td>\n",
       "      <td>11.75</td>\n",
       "      <td>11.95</td>\n",
       "      <td>179</td>\n",
       "    </tr>\n",
       "    <tr>\n",
       "      <th>2</th>\n",
       "      <td>2016-03-12</td>\n",
       "      <td>11.95</td>\n",
       "      <td>13.45</td>\n",
       "      <td>11.95</td>\n",
       "      <td>12.92</td>\n",
       "      <td>833</td>\n",
       "    </tr>\n",
       "    <tr>\n",
       "      <th>3</th>\n",
       "      <td>2016-03-13</td>\n",
       "      <td>12.92</td>\n",
       "      <td>15.07</td>\n",
       "      <td>12.92</td>\n",
       "      <td>15.07</td>\n",
       "      <td>1295</td>\n",
       "    </tr>\n",
       "    <tr>\n",
       "      <th>4</th>\n",
       "      <td>2016-03-14</td>\n",
       "      <td>15.07</td>\n",
       "      <td>15.07</td>\n",
       "      <td>11.40</td>\n",
       "      <td>12.50</td>\n",
       "      <td>92183</td>\n",
       "    </tr>\n",
       "    <tr>\n",
       "      <th>...</th>\n",
       "      <td>...</td>\n",
       "      <td>...</td>\n",
       "      <td>...</td>\n",
       "      <td>...</td>\n",
       "      <td>...</td>\n",
       "      <td>...</td>\n",
       "    </tr>\n",
       "    <tr>\n",
       "      <th>2285</th>\n",
       "      <td>2022-06-12</td>\n",
       "      <td>1531.50</td>\n",
       "      <td>1542.01</td>\n",
       "      <td>1430.93</td>\n",
       "      <td>1435.46</td>\n",
       "      <td>1817579</td>\n",
       "    </tr>\n",
       "    <tr>\n",
       "      <th>2286</th>\n",
       "      <td>2022-06-13</td>\n",
       "      <td>1434.43</td>\n",
       "      <td>1454.07</td>\n",
       "      <td>1168.68</td>\n",
       "      <td>1206.67</td>\n",
       "      <td>4386650</td>\n",
       "    </tr>\n",
       "    <tr>\n",
       "      <th>2287</th>\n",
       "      <td>2022-06-14</td>\n",
       "      <td>1206.67</td>\n",
       "      <td>1261.39</td>\n",
       "      <td>1078.11</td>\n",
       "      <td>1210.84</td>\n",
       "      <td>3267119</td>\n",
       "    </tr>\n",
       "    <tr>\n",
       "      <th>2288</th>\n",
       "      <td>2022-06-15</td>\n",
       "      <td>1208.82</td>\n",
       "      <td>1244.80</td>\n",
       "      <td>1016.99</td>\n",
       "      <td>1237.92</td>\n",
       "      <td>3734568</td>\n",
       "    </tr>\n",
       "    <tr>\n",
       "      <th>2289</th>\n",
       "      <td>2022-06-16</td>\n",
       "      <td>1237.92</td>\n",
       "      <td>1254.28</td>\n",
       "      <td>1154.54</td>\n",
       "      <td>1164.16</td>\n",
       "      <td>3187588</td>\n",
       "    </tr>\n",
       "  </tbody>\n",
       "</table>\n",
       "<p>2290 rows × 6 columns</p>\n",
       "</div>"
      ],
      "text/plain": [
       "           Date     Open     High      Low    Close   Volume\n",
       "0    2016-03-10    11.20    11.85    11.07    11.75        4\n",
       "1    2016-03-11    11.75    11.95    11.75    11.95      179\n",
       "2    2016-03-12    11.95    13.45    11.95    12.92      833\n",
       "3    2016-03-13    12.92    15.07    12.92    15.07     1295\n",
       "4    2016-03-14    15.07    15.07    11.40    12.50    92183\n",
       "...         ...      ...      ...      ...      ...      ...\n",
       "2285 2022-06-12  1531.50  1542.01  1430.93  1435.46  1817579\n",
       "2286 2022-06-13  1434.43  1454.07  1168.68  1206.67  4386650\n",
       "2287 2022-06-14  1206.67  1261.39  1078.11  1210.84  3267119\n",
       "2288 2022-06-15  1208.82  1244.80  1016.99  1237.92  3734568\n",
       "2289 2022-06-16  1237.92  1254.28  1154.54  1164.16  3187588\n",
       "\n",
       "[2290 rows x 6 columns]"
      ]
     },
     "execution_count": 4,
     "metadata": {},
     "output_type": "execute_result"
    }
   ],
   "source": [
    "df"
   ]
  },
  {
   "cell_type": "code",
   "execution_count": 5,
   "id": "549e777b",
   "metadata": {},
   "outputs": [
    {
     "data": {
      "text/plain": [
       "(2290, 6)"
      ]
     },
     "execution_count": 5,
     "metadata": {},
     "output_type": "execute_result"
    }
   ],
   "source": [
    "df.shape"
   ]
  },
  {
   "cell_type": "code",
   "execution_count": 6,
   "id": "8d0ad4e9",
   "metadata": {},
   "outputs": [
    {
     "data": {
      "image/png": "[encoded data removed]",
      "text/plain": [
       "<Figure size 1152x576 with 1 Axes>"
      ]
     },
     "metadata": {},
     "output_type": "display_data"
    }
   ],
   "source": [
    "# Visualize the closing price history\n",
    "plt.figure(figsize=(16,8))\n",
    "plt.title('Close Price History')\n",
    "plt.plot( df['Date'], df['Close'])\n",
    "plt.xlabel('Year', fontsize=18)\n",
    "plt.ylabel('Close Price USD ($)', fontsize=18)\n",
    "\n",
    "plt.show()"
   ]
  },
  {
   "cell_type": "code",
   "execution_count": 7,
   "id": "ae6ccd22",
   "metadata": {},
   "outputs": [],
   "source": [
    "# Create a new dataframe  with only the 'Close' column\n",
    "data = df.filter(['Close'])\n",
    "\n",
    "# Convert the dataframe into a numpy array\n",
    "dataset = data.values\n",
    "\n",
    "# Get the number of rows to train the model on - 80%\n",
    "training_data_len = math.ceil(len(dataset) * .8)"
   ]
  },
  {
   "cell_type": "code",
   "execution_count": 8,
   "id": "db515e77",
   "metadata": {},
   "outputs": [
    {
     "data": {
      "text/plain": [
       "1832"
      ]
     },
     "execution_count": 8,
     "metadata": {},
     "output_type": "execute_result"
    }
   ],
   "source": [
    "training_data_len"
   ]
  },
  {
   "cell_type": "code",
   "execution_count": 9,
   "id": "1147a064",
   "metadata": {},
   "outputs": [
    {
     "data": {
      "text/plain": [
       "array([[0.00105172],\n",
       "       [0.00109337],\n",
       "       [0.00129538],\n",
       "       ...,\n",
       "       [0.25077473],\n",
       "       [0.25641442],\n",
       "       [0.24105313]])"
      ]
     },
     "execution_count": 9,
     "metadata": {},
     "output_type": "execute_result"
    }
   ],
   "source": [
    "# Scale the data - advantageous always\n",
    "\n",
    "# Creating MinMaxScaler object\n",
    "scaler = MinMaxScaler(feature_range=(0,1))\n",
    "scaled_data = scaler.fit_transform(dataset)\n",
    "\n",
    "scaled_data"
   ]
  },
  {
   "cell_type": "code",
   "execution_count": 10,
   "id": "2bffa112",
   "metadata": {},
   "outputs": [
    {
     "name": "stdout",
     "output_type": "stream",
     "text": [
      "[array([0.00105172, 0.00109337, 0.00129538, 0.00174314, 0.00120791,\n",
      "       0.00132454, 0.00128705, 0.00084137, 0.00084137, 0.00075182,\n",
      "       0.00072475, 0.00109337, 0.00097258, 0.00119333, 0.00093717,\n",
      "       0.00082679, 0.00089552, 0.00077056, 0.00102464, 0.00106005,\n",
      "       0.00107254, 0.00098091, 0.00102464, 0.00102256, 0.00105172,\n",
      "       0.00092676, 0.00077056, 0.00084554, 0.00071225, 0.00062686,\n",
      "       0.00051024, 0.00042902, 0.00041236, 0.00017286, 0.00028948,\n",
      "       0.00036654, 0.00033738, 0.0003832 , 0.0005748 , 0.00047275,\n",
      "       0.0004186 , 0.00039778, 0.00029365, 0.00026449, 0.00036654,\n",
      "       0.00029156, 0.00017494, 0.00016661, 0.00022909, 0.0001312 ,\n",
      "       0.00017077, 0.00045193, 0.00042693, 0.00068726, 0.00054981,\n",
      "       0.0005748 , 0.00064352, 0.00055189, 0.00055189, 0.00058313])]\n",
      "[0.0005456423585078554]\n",
      "\n",
      "[array([0.00105172, 0.00109337, 0.00129538, 0.00174314, 0.00120791,\n",
      "       0.00132454, 0.00128705, 0.00084137, 0.00084137, 0.00075182,\n",
      "       0.00072475, 0.00109337, 0.00097258, 0.00119333, 0.00093717,\n",
      "       0.00082679, 0.00089552, 0.00077056, 0.00102464, 0.00106005,\n",
      "       0.00107254, 0.00098091, 0.00102464, 0.00102256, 0.00105172,\n",
      "       0.00092676, 0.00077056, 0.00084554, 0.00071225, 0.00062686,\n",
      "       0.00051024, 0.00042902, 0.00041236, 0.00017286, 0.00028948,\n",
      "       0.00036654, 0.00033738, 0.0003832 , 0.0005748 , 0.00047275,\n",
      "       0.0004186 , 0.00039778, 0.00029365, 0.00026449, 0.00036654,\n",
      "       0.00029156, 0.00017494, 0.00016661, 0.00022909, 0.0001312 ,\n",
      "       0.00017077, 0.00045193, 0.00042693, 0.00068726, 0.00054981,\n",
      "       0.0005748 , 0.00064352, 0.00055189, 0.00055189, 0.00058313]), array([0.00109337, 0.00129538, 0.00174314, 0.00120791, 0.00132454,\n",
      "       0.00128705, 0.00084137, 0.00084137, 0.00075182, 0.00072475,\n",
      "       0.00109337, 0.00097258, 0.00119333, 0.00093717, 0.00082679,\n",
      "       0.00089552, 0.00077056, 0.00102464, 0.00106005, 0.00107254,\n",
      "       0.00098091, 0.00102464, 0.00102256, 0.00105172, 0.00092676,\n",
      "       0.00077056, 0.00084554, 0.00071225, 0.00062686, 0.00051024,\n",
      "       0.00042902, 0.00041236, 0.00017286, 0.00028948, 0.00036654,\n",
      "       0.00033738, 0.0003832 , 0.0005748 , 0.00047275, 0.0004186 ,\n",
      "       0.00039778, 0.00029365, 0.00026449, 0.00036654, 0.00029156,\n",
      "       0.00017494, 0.00016661, 0.00022909, 0.0001312 , 0.00017077,\n",
      "       0.00045193, 0.00042693, 0.00068726, 0.00054981, 0.0005748 ,\n",
      "       0.00064352, 0.00055189, 0.00055189, 0.00058313, 0.00054564])]\n",
      "[0.0005456423585078554, 0.00055813798503857]\n",
      "\n"
     ]
    }
   ],
   "source": [
    "# Create the training data set\n",
    "# Create the scaled training data set\n",
    "train_data = scaled_data[0:training_data_len , :]\n",
    "# Split the data into x_train and y_train data sets\n",
    "x_train = []\n",
    "y_train = []\n",
    "\n",
    "for i in range(60, len(train_data)):\n",
    "    x_train.append(train_data[i-60:i, 0])\n",
    "    y_train.append(train_data[i, 0])\n",
    "    if i <= 61:\n",
    "        print(x_train)\n",
    "        print(y_train)\n",
    "        print()"
   ]
  },
  {
   "cell_type": "code",
   "execution_count": 11,
   "id": "b73cfc5b",
   "metadata": {},
   "outputs": [],
   "source": [
    "# Convert the x_train and y_train to numpy arrays, so that we can use them to train the LSTM model\n",
    "x_train, y_train = np.array(x_train), np.array(y_train)"
   ]
  },
  {
   "cell_type": "code",
   "execution_count": 12,
   "id": "b5ea9aef",
   "metadata": {},
   "outputs": [
    {
     "data": {
      "text/plain": [
       "(1772, 60, 1)"
      ]
     },
     "execution_count": 12,
     "metadata": {},
     "output_type": "execute_result"
    }
   ],
   "source": [
    "# Reshape the data, because the LSTM network expects the input to be 3D, in the form of samples, in the form of timesteps, \n",
    "# number of features. Thus, now since x_train dataset is 2D\n",
    "x_train = np.reshape(x_train, (x_train.shape[0], x_train.shape[1], 1))\n",
    "x_train.shape"
   ]
  },
  {
   "cell_type": "code",
   "execution_count": 13,
   "id": "e4eaeab6",
   "metadata": {},
   "outputs": [],
   "source": [
    "# Build the LSTM model\n",
    "model = Sequential()\n",
    "# Adding a layer - LSTM layer with 50 neurons to our model. Return sequences is true since we'll use another LSTM layer\n",
    "model.add(LSTM(50, return_sequences=True, input_shape = (x_train.shape[1], 1)))\n",
    "# Adding a second LSTM layer\n",
    "model.add(LSTM(50, return_sequences=False))\n",
    "# Adding other layers to our model architecture\n",
    "model.add(Dense(25))\n",
    "model.add(Dense(1))"
   ]
  },
  {
   "cell_type": "code",
   "execution_count": 14,
   "id": "8c39065b",
   "metadata": {},
   "outputs": [],
   "source": [
    "# Compile the model\n",
    "# An optimizer is used to improve upon the loss function. \n",
    "# Loss function is used to measure how well the model did on training.\n",
    "model.compile(optimizer='adam', loss='mean_squared_error')"
   ]
  },
  {
   "cell_type": "code",
   "execution_count": 15,
   "id": "2b63e549",
   "metadata": {},
   "outputs": [
    {
     "name": "stdout",
     "output_type": "stream",
     "text": [
      "1772/1772 [==============================] - 57s 29ms/step - loss: 4.6400e-04\n"
     ]
    },
    {
     "data": {
      "text/plain": [
       "<keras.callbacks.History at 0x1f406de3970>"
      ]
     },
     "execution_count": 15,
     "metadata": {},
     "output_type": "execute_result"
    }
   ],
   "source": [
    "# Train the Model\n",
    "# epochs is the number of iterations when the entire dataset is passed forward and backward through a neural network\n",
    "model.fit(x_train, y_train, batch_size=1, epochs=1)"
   ]
  },
  {
   "cell_type": "code",
   "execution_count": 16,
   "id": "987b0848",
   "metadata": {},
   "outputs": [],
   "source": [
    "# Create the testing data set\n",
    "# Create a new array containing scaled values from index 1772 to 2290\n",
    "test_data = scaled_data[training_data_len - 60: , :]\n",
    "\n",
    "# Create the test datasets x_test and y_test\n",
    "x_test = []\n",
    "y_test = dataset[training_data_len:, :]\n",
    "for i in range(60, len(test_data)):\n",
    "    x_test.append(test_data[i-60:i, 0])"
   ]
  },
  {
   "cell_type": "code",
   "execution_count": 17,
   "id": "0e5ad3c1",
   "metadata": {},
   "outputs": [],
   "source": [
    "# Convert the data to a numpy array\n",
    "x_test = np.array(x_test)"
   ]
  },
  {
   "cell_type": "code",
   "execution_count": 18,
   "id": "fcf88526",
   "metadata": {},
   "outputs": [],
   "source": [
    "# Reshape the data\n",
    "# 1 represents the number of features\n",
    "x_test = np.reshape(x_test , (x_test.shape[0], x_test.shape[1], 1))"
   ]
  },
  {
   "cell_type": "code",
   "execution_count": 19,
   "id": "52b87fac",
   "metadata": {},
   "outputs": [
    {
     "name": "stdout",
     "output_type": "stream",
     "text": [
      "15/15 [==============================] - 2s 29ms/step\n"
     ]
    }
   ],
   "source": [
    "# Get the models predicted price values\n",
    "predictions = model.predict(x_test)\n",
    "# Unscaling the values. Getting predicitions to hold the values in y_test\n",
    "predictions = scaler.inverse_transform(predictions)"
   ]
  },
  {
   "cell_type": "code",
   "execution_count": 20,
   "id": "501470a1",
   "metadata": {},
   "outputs": [
    {
     "data": {
      "text/plain": [
       "125.90998117238675"
      ]
     },
     "execution_count": 20,
     "metadata": {},
     "output_type": "execute_result"
    }
   ],
   "source": [
    "# Evaluating the model\n",
    "# Get the root mean squared error (RMSE) - lower values indicate better fit\n",
    "rmse = np.sqrt( np.mean( predictions - y_test )**2 )\n",
    "rmse"
   ]
  },
  {
   "cell_type": "code",
   "execution_count": 21,
   "id": "9a0e781a",
   "metadata": {},
   "outputs": [
    {
     "name": "stderr",
     "output_type": "stream",
     "text": [
      "C:\\Users\\sinfo\\AppData\\Local\\Temp/ipykernel_44096/1089326374.py:4: SettingWithCopyWarning: \n",
      "A value is trying to be set on a copy of a slice from a DataFrame.\n",
      "Try using .loc[row_indexer,col_indexer] = value instead\n",
      "\n",
      "See the caveats in the documentation: https://pandas.pydata.org/pandas-docs/stable/user_guide/indexing.html#returning-a-view-versus-a-copy\n",
      "  valid['Predictions'] = predictions\n"
     ]
    },
    {
     "data": {
      "image/png": "[encoded data removed]",
      "text/plain": [
       "<Figure size 1152x576 with 1 Axes>"
      ]
     },
     "metadata": {},
     "output_type": "display_data"
    }
   ],
   "source": [
    "# Plot the data\n",
    "train = data[:training_data_len]\n",
    "valid = data[training_data_len:]\n",
    "valid['Predictions'] = predictions\n",
    "\n",
    "# Visualize the data\n",
    "plt.figure(figsize=(16,8))\n",
    "plt.title('Model')\n",
    "plt.xlabel('Year', fontsize=18)\n",
    "plt.ylabel('Close Price USD ($)', fontsize=18)\n",
    "plt.plot(train['Close'])\n",
    "plt.plot(valid[['Close', 'Predictions']])\n",
    "plt.legend(['Train', 'Val', 'Predictions'], loc='lower right')\n",
    "plt.show()"
   ]
  },
  {
   "cell_type": "code",
   "execution_count": 22,
   "id": "04d7d564",
   "metadata": {},
   "outputs": [
    {
     "data": {
      "text/html": [
       "<div>\n",
       "<style scoped>\n",
       "    .dataframe tbody tr th:only-of-type {\n",
       "        vertical-align: middle;\n",
       "    }\n",
       "\n",
       "    .dataframe tbody tr th {\n",
       "        vertical-align: top;\n",
       "    }\n",
       "\n",
       "    .dataframe thead th {\n",
       "        text-align: right;\n",
       "    }\n",
       "</style>\n",
       "<table border=\"1\" class=\"dataframe\">\n",
       "  <thead>\n",
       "    <tr style=\"text-align: right;\">\n",
       "      <th></th>\n",
       "      <th>Close</th>\n",
       "      <th>Predictions</th>\n",
       "    </tr>\n",
       "  </thead>\n",
       "  <tbody>\n",
       "    <tr>\n",
       "      <th>1832</th>\n",
       "      <td>1804.85</td>\n",
       "      <td>1978.824585</td>\n",
       "    </tr>\n",
       "    <tr>\n",
       "      <th>1833</th>\n",
       "      <td>1823.35</td>\n",
       "      <td>1980.911377</td>\n",
       "    </tr>\n",
       "    <tr>\n",
       "      <th>1834</th>\n",
       "      <td>1776.08</td>\n",
       "      <td>1982.497803</td>\n",
       "    </tr>\n",
       "    <tr>\n",
       "      <th>1835</th>\n",
       "      <td>1809.64</td>\n",
       "      <td>1977.707764</td>\n",
       "    </tr>\n",
       "    <tr>\n",
       "      <th>1836</th>\n",
       "      <td>1804.60</td>\n",
       "      <td>1974.896973</td>\n",
       "    </tr>\n",
       "    <tr>\n",
       "      <th>...</th>\n",
       "      <td>...</td>\n",
       "      <td>...</td>\n",
       "    </tr>\n",
       "    <tr>\n",
       "      <th>2285</th>\n",
       "      <td>1435.46</td>\n",
       "      <td>1915.799316</td>\n",
       "    </tr>\n",
       "    <tr>\n",
       "      <th>2286</th>\n",
       "      <td>1206.67</td>\n",
       "      <td>1855.955933</td>\n",
       "    </tr>\n",
       "    <tr>\n",
       "      <th>2287</th>\n",
       "      <td>1210.84</td>\n",
       "      <td>1766.881836</td>\n",
       "    </tr>\n",
       "    <tr>\n",
       "      <th>2288</th>\n",
       "      <td>1237.92</td>\n",
       "      <td>1675.456543</td>\n",
       "    </tr>\n",
       "    <tr>\n",
       "      <th>2289</th>\n",
       "      <td>1164.16</td>\n",
       "      <td>1596.997314</td>\n",
       "    </tr>\n",
       "  </tbody>\n",
       "</table>\n",
       "<p>458 rows × 2 columns</p>\n",
       "</div>"
      ],
      "text/plain": [
       "        Close  Predictions\n",
       "1832  1804.85  1978.824585\n",
       "1833  1823.35  1980.911377\n",
       "1834  1776.08  1982.497803\n",
       "1835  1809.64  1977.707764\n",
       "1836  1804.60  1974.896973\n",
       "...       ...          ...\n",
       "2285  1435.46  1915.799316\n",
       "2286  1206.67  1855.955933\n",
       "2287  1210.84  1766.881836\n",
       "2288  1237.92  1675.456543\n",
       "2289  1164.16  1596.997314\n",
       "\n",
       "[458 rows x 2 columns]"
      ]
     },
     "execution_count": 22,
     "metadata": {},
     "output_type": "execute_result"
    }
   ],
   "source": [
    "# Show the valid and predicted prices\n",
    "valid"
   ]
  },
  {
   "cell_type": "code",
   "execution_count": null,
   "id": "f96f8169",
   "metadata": {},
   "outputs": [],
   "source": [
    "df_q = pd.read_excel(r\"C:\\Users\\sinfo\\Desktop\\ehd.xlsx\")"
   ]
  }
 ],
 "metadata": {
  "kernelspec": {
   "display_name": "Python 3 (ipykernel)",
   "language": "python",
   "name": "python3"
  },
  "language_info": {
   "codemirror_mode": {
    "name": "ipython",
    "version": 3
   },
   "file_extension": ".py",
   "mimetype": "text/x-python",
   "name": "python",
   "nbconvert_exporter": "python",
   "pygments_lexer": "ipython3",
   "version": "3.9.5"
  }
 },
 "nbformat": 4,
 "nbformat_minor": 5
}
